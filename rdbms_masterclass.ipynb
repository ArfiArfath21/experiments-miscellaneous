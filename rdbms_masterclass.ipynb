{
 "cells": [
  {
   "cell_type": "markdown",
   "id": "a474c105",
   "metadata": {},
   "source": [
    "# RDBMS Masterclass — Hands‑On + Explanations (SQLite‑backed)\n",
    "This notebook teaches the **why** and the **how** of RDBMS concepts with runnable examples.  \n",
    "You’ll execute real SQL on SQLite (for universals), and you’ll see vendor‑specific notes for **Postgres/MySQL/SQL Server** where they diverge.\n",
    "\n",
    "**What you'll learn (and *do*):**\n",
    "- Mental model (parser → optimizer → executor → storage)\n",
    "- Schema design, keys, constraints\n",
    "- Transactions & ACID with real rollbacks\n",
    "- Joins, window functions, views\n",
    "- Indexing strategy & query plans (`EXPLAIN QUERY PLAN`)\n",
    "- Triggers (as a stand‑in for server‑side logic)\n",
    "- Performance patterns (pagination, upserts, pre‑aggregation)\n",
    "- Partitioning, replication & backups (conceptual)\n",
    "- Security, migrations, and an interview‑oriented summary\n",
    "\n",
    "> ⚙️ We’ll use **SQLite** for runnable demos. Where SQLite lacks a feature, we give **Postgres/MySQL/SQL Server** examples you can paste into those engines."
   ]
  },
  {
   "cell_type": "markdown",
   "id": "fbc194c6",
   "metadata": {},
   "source": [
    "## 1) Setup (run once)\n",
    "We create an in‑memory SQLite DB, plus helper functions to run SQL and view results like a mini client."
   ]
  },
  {
   "cell_type": "code",
   "execution_count": null,
   "id": "79366faa",
   "metadata": {},
   "outputs": [],
   "source": [
    "import sqlite3, pandas as pd, time\n",
    "from caas_jupyter_tools import display_dataframe_to_user\n",
    "\n",
    "# In-memory DB for a clean slate each run\n",
    "conn = sqlite3.connect(\":memory:\")\n",
    "conn.execute(\"PRAGMA foreign_keys = ON;\")  # enable FK enforcement\n",
    "conn.execute(\"PRAGMA journal_mode = WAL;\") # emulate WAL (SQLite specific)\n",
    "conn.execute(\"PRAGMA synchronous = NORMAL;\")\n",
    "\n",
    "def q(sql, params=None, many=False):\n",
    "    \"\"\"Run a SELECT and return a DataFrame.\"\"\"\n",
    "    cur = conn.cursor()\n",
    "    cur.execute(sql) if not params else cur.execute(sql, params)\n",
    "    cols = [d[0] for d in cur.description] if cur.description else []\n",
    "    rows = cur.fetchall()\n",
    "    return pd.DataFrame(rows, columns=cols)\n",
    "\n",
    "def x(sql, params=None):\n",
    "    \"\"\"Execute DDL/DML and return rowcount.\"\"\"\n",
    "    cur = conn.cursor()\n",
    "    cur.execute(sql) if not params else cur.execute(sql, params)\n",
    "    conn.commit()\n",
    "    return cur.rowcount\n",
    "\n",
    "def explain(sql):\n",
    "    \"\"\"Return EXPLAIN QUERY PLAN for a statement.\"\"\"\n",
    "    return q(f\"EXPLAIN QUERY PLAN {sql}\")"
   ]
  },
  {
   "cell_type": "markdown",
   "id": "3500c68d",
   "metadata": {},
   "source": [
    "## 2) Schema design & constraints (keys, FKs, CHECK, NOT NULL)\n",
    "We’ll create a minimal **Orders** schema illustrating **PK**, **FK**, **UNIQUE**, **CHECK**, and **NOT NULL**."
   ]
  },
  {
   "cell_type": "code",
   "execution_count": null,
   "id": "f4a7ce90",
   "metadata": {},
   "outputs": [],
   "source": [
    "x(\"\"\"\n",
    "CREATE TABLE customers(\n",
    "  id INTEGER PRIMARY KEY,        -- surrogate key (rowid-alias in SQLite)\n",
    "  email TEXT NOT NULL UNIQUE,    -- natural candidate with uniqueness\n",
    "  created_at TEXT NOT NULL DEFAULT (datetime('now'))\n",
    ");\"\"\")\n",
    "\n",
    "x(\"\"\"\n",
    "CREATE TABLE orders(\n",
    "  id INTEGER PRIMARY KEY,\n",
    "  customer_id INTEGER NOT NULL,\n",
    "  amount NUMERIC NOT NULL CHECK (amount >= 0),\n",
    "  status TEXT NOT NULL CHECK (status IN ('NEW','PAID','CANCELLED')),\n",
    "  created_at TEXT NOT NULL DEFAULT (datetime('now')),\n",
    "  FOREIGN KEY(customer_id) REFERENCES customers(id) ON DELETE CASCADE\n",
    ");\"\"\")\n",
    "\n",
    "# Seed a little data\n",
    "x(\"\"\"INSERT INTO customers(email) VALUES\n",
    " ('a@x.com'),('b@x.com'),('c@x.com');\"\"\")\n",
    "x(\"\"\"INSERT INTO orders(customer_id, amount, status) VALUES\n",
    " (1, 50, 'NEW'),\n",
    " (1, 20, 'PAID'),\n",
    " (2, 10, 'PAID');\"\"\")\n",
    "\n",
    "q(\"SELECT * FROM customers ORDER BY id;\")"
   ]
  },
  {
   "cell_type": "markdown",
   "id": "3ab4d309",
   "metadata": {},
   "source": [
    "**Why this matters:** Constraints encode business rules **in the database**, preventing bad data regardless of the app.  \n",
    "- `UNIQUE` prevents duplicates.  \n",
    "- `CHECK` enforces valid ranges/enums.  \n",
    "- `FOREIGN KEY` keeps relationships consistent (and `ON DELETE CASCADE` controls delete behavior)."
   ]
  },
  {
   "cell_type": "markdown",
   "id": "f220bb00",
   "metadata": {},
   "source": [
    "## 3) Transactions & ACID (Atomicity & Rollbacks)\n",
    "We’ll try to insert a valid + invalid row in a **single transaction** and then **ROLLBACK** to show atomicity."
   ]
  },
  {
   "cell_type": "code",
   "execution_count": null,
   "id": "8d21cb09",
   "metadata": {},
   "outputs": [],
   "source": [
    "# Start a transaction\n",
    "conn.execute(\"BEGIN;\")\n",
    "try:\n",
    "    conn.execute(\"INSERT INTO orders(customer_id, amount, status) VALUES (3, 5, 'NEW');\")\n",
    "    # Invalid status will violate CHECK and force a rollback\n",
    "    conn.execute(\"INSERT INTO orders(customer_id, amount, status) VALUES (3, 15, 'NOT_A_STATUS');\")\n",
    "    conn.commit()\n",
    "except Exception as e:\n",
    "    conn.rollback()\n",
    "    print(\"Rolled back due to:\", e)\n",
    "\n",
    "# Show that neither row was committed\n",
    "q(\"SELECT * FROM orders WHERE customer_id=3;\")"
   ]
  },
  {
   "cell_type": "markdown",
   "id": "4f87c1b3",
   "metadata": {},
   "source": [
    "> **Takeaway:** Atomicity — either *all* statements succeed or **none** do.  \n",
    "**Isolation levels** vary by engine (Read Committed/Repeatable Read/Serializable). SQLite’s default is serializable-like for single connection; Postgres defaults to **Read Committed**."
   ]
  },
  {
   "cell_type": "markdown",
   "id": "52190ce4",
   "metadata": {},
   "source": [
    "## 4) Joins & common patterns\n",
    "We’ll add an `order_items` table and demonstrate `INNER` and `LEFT` joins."
   ]
  },
  {
   "cell_type": "code",
   "execution_count": null,
   "id": "f0deaf3a",
   "metadata": {},
   "outputs": [],
   "source": [
    "x(\"\"\"\n",
    "CREATE TABLE order_items(\n",
    "  id INTEGER PRIMARY KEY,\n",
    "  order_id INTEGER NOT NULL,\n",
    "  sku TEXT NOT NULL,\n",
    "  qty INTEGER NOT NULL CHECK (qty > 0),\n",
    "  price NUMERIC NOT NULL CHECK (price >= 0),\n",
    "  FOREIGN KEY(order_id) REFERENCES orders(id) ON DELETE CASCADE\n",
    ");\"\"\")\n",
    "\n",
    "x(\"\"\"INSERT INTO order_items(order_id, sku, qty, price) VALUES\n",
    " (1, 'A', 1, 50.0),\n",
    " (2, 'B', 2, 10.0);\"\"\")\n",
    "\n",
    "# INNER JOIN: only orders with items\n",
    "q(\"\"\"\n",
    "SELECT o.id AS order_id, c.email, i.sku, i.qty, i.price\n",
    "FROM orders o\n",
    "JOIN customers c ON c.id = o.customer_id\n",
    "JOIN order_items i ON i.order_id = o.id\n",
    "ORDER BY o.id;\n",
    "\"\"\")"
   ]
  },
  {
   "cell_type": "markdown",
   "id": "3db60356",
   "metadata": {},
   "source": [
    "**Patterns:**\n",
    "- **Semi/Anti joins** (via `EXISTS` / `NOT EXISTS`) to test membership without duplicating rows.\n",
    "- **LEFT JOIN** to keep unmatched rows from the left side."
   ]
  },
  {
   "cell_type": "code",
   "execution_count": null,
   "id": "edc43381",
   "metadata": {},
   "outputs": [],
   "source": [
    "# Orders that have NO items (anti-join pattern)\n",
    "q(\"\"\"\n",
    "SELECT o.id, o.status\n",
    "FROM orders o\n",
    "WHERE NOT EXISTS (SELECT 1 FROM order_items i WHERE i.order_id = o.id);\n",
    "\"\"\")"
   ]
  },
  {
   "cell_type": "markdown",
   "id": "c1a91e59",
   "metadata": {},
   "source": [
    "## 5) Window functions (running totals, rankings, lag/lead)\n",
    "Window functions answer “relative to other rows” questions without self-joins."
   ]
  },
  {
   "cell_type": "code",
   "execution_count": null,
   "id": "2882a554",
   "metadata": {},
   "outputs": [],
   "source": [
    "# Add more orders for demos\n",
    "x(\"\"\"INSERT INTO orders(customer_id, amount, status, created_at) VALUES\n",
    " (1, 15, 'PAID', '2025-09-01'),\n",
    " (1, 25, 'PAID', '2025-09-02'),\n",
    " (2, 35, 'PAID', '2025-09-02');\"\"\")\n",
    "\n",
    "q(\"\"\"\n",
    "SELECT customer_id,\n",
    "       created_at,\n",
    "       amount,\n",
    "       SUM(amount) OVER (PARTITION BY customer_id ORDER BY created_at) AS running_total,\n",
    "       LAG(amount) OVER (PARTITION BY customer_id ORDER BY created_at) AS prev_amount\n",
    "FROM orders\n",
    "ORDER BY customer_id, created_at;\n",
    "\"\"\")"
   ]
  },
  {
   "cell_type": "markdown",
   "id": "4e437f89",
   "metadata": {},
   "source": [
    "**Remember:** `PARTITION BY` defines peer groups, `ORDER BY` gives sequence, and optional **frames** (“rows between”) control what counts as the window."
   ]
  },
  {
   "cell_type": "markdown",
   "id": "97d2e61d",
   "metadata": {},
   "source": [
    "## 6) Indexing & EXPLAIN (query plans)\n",
    "We’ll index `(customer_id, created_at)` and compare plans."
   ]
  },
  {
   "cell_type": "code",
   "execution_count": null,
   "id": "33eb42c8",
   "metadata": {},
   "outputs": [],
   "source": [
    "# Create an index compatible with our common filter\n",
    "x(\"\"\"CREATE INDEX idx_orders_cid_ts ON orders(customer_id, created_at);\"\"\")\n",
    "\n",
    "# A selective query: should use the index\n",
    "plan = explain(\"\"\"\n",
    "SELECT * FROM orders \n",
    "WHERE customer_id = 1 AND created_at >= '2025-09-01'\n",
    "ORDER BY created_at;\n",
    "\"\"\")\n",
    "plan"
   ]
  },
  {
   "cell_type": "markdown",
   "id": "1a9e343b",
   "metadata": {},
   "source": [
    "**Rules of thumb:**\n",
    "- Put the **most selective** column first in composite indexes.  \n",
    "- Make **covering** indexes (include columns used in the query) where supported (SQLite doesn’t have INCLUDE; Postgres/SQL Server do).  \n",
    "- Avoid wrapping the indexed column in functions in your predicates (or build functional indexes)."
   ]
  },
  {
   "cell_type": "markdown",
   "id": "d568d7e2",
   "metadata": {},
   "source": [
    "## 7) Pagination — use keyset over OFFSET for large pages\n",
    "`OFFSET` grows slower with page number. Keyset pagination is **faster and consistent**."
   ]
  },
  {
   "cell_type": "code",
   "execution_count": null,
   "id": "9025a73d",
   "metadata": {},
   "outputs": [],
   "source": [
    "# Keyset pagination example: \"fetch next rows after (last_ts, last_id)\"\n",
    "q(\"\"\"\n",
    "SELECT id, created_at, amount\n",
    "FROM orders\n",
    "WHERE (created_at, id) > ('2025-09-01', 0)\n",
    "ORDER BY created_at, id\n",
    "LIMIT 3;\n",
    "\"\"\")"
   ]
  },
  {
   "cell_type": "markdown",
   "id": "76d27cfa",
   "metadata": {},
   "source": [
    "**Keyset pattern:** keep the last `(sort_key, id)` from the previous page and use a `WHERE` “greater than” tuple to fetch next page deterministically."
   ]
  },
  {
   "cell_type": "markdown",
   "id": "b5431b31",
   "metadata": {},
   "source": [
    "## 8) Views & pre‑aggregation\n",
    "Encapsulate logic with **views**; for read‑heavy analytics, pre‑aggregate and materialize (engine‑specific)."
   ]
  },
  {
   "cell_type": "code",
   "execution_count": null,
   "id": "7bd20b58",
   "metadata": {},
   "outputs": [],
   "source": [
    "x(\"\"\"\n",
    "CREATE VIEW daily_revenue AS\n",
    "SELECT date(created_at) AS d, SUM(amount) AS revenue\n",
    "FROM orders\n",
    "GROUP BY date(created_at);\n",
    "\"\"\")\n",
    "q(\"SELECT * FROM daily_revenue ORDER BY d;\")"
   ]
  },
  {
   "cell_type": "markdown",
   "id": "73082945",
   "metadata": {},
   "source": [
    "**Materialized views:**  \n",
    "- **Postgres:** `CREATE MATERIALIZED VIEW ...; REFRESH MATERIALIZED VIEW ...;`  \n",
    "- **SQL Server:** Indexed views (with constraints).  \n",
    "- **MySQL:** Emulate with tables + events/procs."
   ]
  },
  {
   "cell_type": "markdown",
   "id": "80e93c4a",
   "metadata": {},
   "source": [
    "## 9) Upserts (conflict‑aware inserts)\n",
    "Syntax varies by engine. Here’s the idea:\n",
    "- **Postgres**: `INSERT ... ON CONFLICT (key) DO UPDATE ...`\n",
    "- **MySQL**: `INSERT ... ON DUPLICATE KEY UPDATE ...`\n",
    "- **SQL Server**: `MERGE` (use carefully)\n",
    "- **SQLite**: `INSERT ... ON CONFLICT(key) DO UPDATE SET ...`"
   ]
  },
  {
   "cell_type": "code",
   "execution_count": null,
   "id": "db0b0fb0",
   "metadata": {},
   "outputs": [],
   "source": [
    "x(\"\"\"CREATE TABLE inventory(sku TEXT PRIMARY KEY, qty INTEGER NOT NULL);\"\"\")\n",
    "x(\"\"\"INSERT INTO inventory(sku, qty) VALUES ('A', 10);\"\"\")\n",
    "# Add +5 if exists, else insert\n",
    "x(\"\"\"\n",
    "INSERT INTO inventory(sku, qty) VALUES ('A', 5)\n",
    "ON CONFLICT(sku) DO UPDATE SET qty = qty + excluded.qty;\n",
    "\"\"\")\n",
    "q(\"SELECT * FROM inventory;\")"
   ]
  },
  {
   "cell_type": "markdown",
   "id": "c22632f0",
   "metadata": {},
   "source": [
    "## 10) Triggers (server‑side hooks) — use sparingly\n",
    "We’ll log inventory changes. In RDBMS with stored procs (e.g., Postgres PL/pgSQL, SQL Server T‑SQL), keep business logic in code and triggers for simple invariants/audit."
   ]
  },
  {
   "cell_type": "code",
   "execution_count": null,
   "id": "7464b8e3",
   "metadata": {},
   "outputs": [],
   "source": [
    "x(\"\"\"CREATE TABLE inv_log(sku TEXT, delta INTEGER, ts TEXT DEFAULT (datetime('now')));\"\"\")\n",
    "\n",
    "x(\"\"\"\n",
    "CREATE TRIGGER trg_inventory_audit\n",
    "AFTER INSERT ON inventory\n",
    "BEGIN\n",
    "  INSERT INTO inv_log(sku, delta) VALUES (NEW.sku, NEW.qty);\n",
    "END;\n",
    "\"\"\")\n",
    "\n",
    "# This INSERT will also write to inv_log\n",
    "x(\"\"\"INSERT INTO inventory(sku, qty) VALUES('B', 3)\n",
    "ON CONFLICT(sku) DO UPDATE SET qty = qty + excluded.qty;\"\"\")\n",
    "\n",
    "q(\"SELECT * FROM inv_log ORDER BY ts;\")"
   ]
  },
  {
   "cell_type": "markdown",
   "id": "1730eef2",
   "metadata": {},
   "source": [
    "## 11) Top‑N per group (window + filter)\n",
    "Common analytics question: “top order per customer.”"
   ]
  },
  {
   "cell_type": "code",
   "execution_count": null,
   "id": "dedd37dd",
   "metadata": {},
   "outputs": [],
   "source": [
    "q(\"\"\"\n",
    "WITH ranked AS (\n",
    "  SELECT o.*, \n",
    "         ROW_NUMBER() OVER (PARTITION BY customer_id ORDER BY amount DESC, id DESC) AS rn\n",
    "  FROM orders o\n",
    ")\n",
    "SELECT customer_id, id AS order_id, amount\n",
    "FROM ranked\n",
    "WHERE rn = 1\n",
    "ORDER BY customer_id;\n",
    "\"\"\")"
   ]
  },
  {
   "cell_type": "markdown",
   "id": "6f827b12",
   "metadata": {},
   "source": [
    "## 12) Query anti‑patterns & fixes\n",
    "- `SELECT *` in hot paths → **project only needed columns**.\n",
    "- Functions on indexed columns → build a **functional index** (Postgres) or store normalized columns.\n",
    "- Giant `OR` chains → sometimes faster as `UNION ALL` of index‑friendly filters.\n",
    "- `OFFSET` pagination on huge pages → use **keyset**.\n",
    "- Stale statistics → **ANALYZE** (engine‑specific) to fix cardinality misestimates."
   ]
  },
  {
   "cell_type": "markdown",
   "id": "fb667213",
   "metadata": {},
   "source": [
    "## 13) Normalization vs. denormalization\n",
    "- **3NF/BCNF** removes update anomalies and duplicates.  \n",
    "- Denormalize **only for known read paths** (summaries, pre‑joined views) and keep a source‑of‑truth table."
   ]
  },
  {
   "cell_type": "markdown",
   "id": "8b9c6214",
   "metadata": {},
   "source": [
    "## 14) Partitioning (conceptual demo)\n",
    "Partition large tables by **time** or **tenant** to enable **pruning** (read less data) and **retention** (drop old partitions fast).\n",
    "\n",
    "**Postgres example:**\n",
    "```sql\n",
    "CREATE TABLE events (\n",
    "  id bigint, ts timestamptz, payload jsonb\n",
    ") PARTITION BY RANGE (ts);\n",
    "\n",
    "CREATE TABLE events_2025_09 PARTITION OF events\n",
    "  FOR VALUES FROM ('2025-09-01') TO ('2025-10-01');\n",
    "```\n",
    "**SQL Server:** Partition functions/schemes.  \n",
    "**MySQL:** RANGE/LIST/HASH partitioning on InnoDB."
   ]
  },
  {
   "cell_type": "markdown",
   "id": "554073d4",
   "metadata": {},
   "source": [
    "## 15) Isolation anomalies & when to raise levels\n",
    "- **Read Committed**: avoids dirty reads; may see non‑repeatable/phantoms.\n",
    "- **Repeatable Read** (InnoDB default): stable snapshots; may allow phantom inserts (handled via next‑key locks).\n",
    "- **Serializable** (Postgres): prevents write skew with predicate locks, but expect **retries** on conflicts.\n",
    "**Pattern:** keep transactions short and retry on deadlocks/serialization failures."
   ]
  },
  {
   "cell_type": "markdown",
   "id": "85c36688",
   "metadata": {},
   "source": [
    "## 16) Security & governance (conceptual)\n",
    "- Roles/Grants (least privilege), TLS in transit, TDE/OS encryption at rest.\n",
    "- **Row‑Level Security** (Postgres) for multi‑tenant; column masking where supported.\n",
    "- Store secrets in a vault, not in connection strings checked into code.\n",
    "- Audit log: connections, DDL, high‑risk DML."
   ]
  },
  {
   "cell_type": "markdown",
   "id": "434d6155",
   "metadata": {},
   "source": [
    "## 17) Backups, replication & recovery (conceptual)\n",
    "- **Backups**: physical (fast, snapshot‑friendly) vs logical (portable dumps).  \n",
    "- **WAL/Redo** enables Point‑in‑Time Recovery (PITR).  \n",
    "- **Replication**: async (possible data loss) vs sync (lower RPO, higher latency).  \n",
    "- Practice **restore drills** — backups are only as good as your restores."
   ]
  },
  {
   "cell_type": "markdown",
   "id": "6f6688ca",
   "metadata": {},
   "source": [
    "## 18) Migrations & release engineering\n",
    "Use versioned tools (Flyway/Liquibase). Prefer **backward‑compatible** steps:\n",
    "1) Add nullable column\n",
    "2) Backfill\n",
    "3) Shift reads\n",
    "4) Enforce NOT NULL/constraints\n",
    "5) Drop legacy\n",
    "Schedule big DDL during low traffic or use online schema change tools."
   ]
  },
  {
   "cell_type": "markdown",
   "id": "b538e85d",
   "metadata": {},
   "source": [
    "## 19) Interview crib sheet (fast answers)\n",
    "- **When indexes don’t help:** low selectivity, wrapped columns, type/collation mismatch, stale stats, heavy writes.\n",
    "- **Deadlocks strategy:** short txns, consistent lock order, smallest index paths, retry on specific codes.\n",
    "- **Isolation choice:** default Read Committed; bump to Repeatable Read for stable reads; Serializable with retries for strict invariants.\n",
    "- **Upserts:** prefer engine‑native `ON CONFLICT`/`ON DUPLICATE` over brittle MERGE if possible.\n",
    "- **Pagination:** use keyset for performance/consistency."
   ]
  },
  {
   "cell_type": "markdown",
   "id": "67159fd9",
   "metadata": {},
   "source": [
    "## 20) Practice tasks (do these to lock it in)\n",
    "1. Add a `payments` table with a FK to `orders`, and a `CHECK` that amount > 0. Write a query to list **unpaid** orders.\n",
    "2. Create a **partial**/filtered index equivalent: in SQLite emulate by indexing a covering subset (or do it in Postgres if available).\n",
    "3. Write a **windowed 7‑day rolling sum** of revenue per customer.\n",
    "4. Add a **trigger** that prevents an order status from moving **PAID → NEW**.\n",
    "5. Implement **keyset** pagination for `daily_revenue` view (by date).\n",
    "6. Design a **partitioning** scheme (in Postgres syntax) for `orders` by month with a 6‑month retention policy."
   ]
  }
 ],
 "metadata": {
  "kernelspec": {
   "display_name": "Python 3",
   "language": "python",
   "name": "python3"
  },
  "language_info": {
   "name": "python",
   "version": "3.x"
  }
 },
 "nbformat": 4,
 "nbformat_minor": 5
}
