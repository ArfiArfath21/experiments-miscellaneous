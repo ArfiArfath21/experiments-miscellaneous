{
 "cells": [
  {
   "cell_type": "code",
   "execution_count": 35,
   "metadata": {},
   "outputs": [
    {
     "data": {
      "text/plain": [
       "-1"
      ]
     },
     "execution_count": 35,
     "metadata": {},
     "output_type": "execute_result"
    }
   ],
   "source": [
    "A = 5\n",
    "B = ~A\n",
    "A ^ B"
   ]
  },
  {
   "cell_type": "code",
   "execution_count": 36,
   "metadata": {},
   "outputs": [
    {
     "data": {
      "text/plain": [
       "'0b1110'"
      ]
     },
     "execution_count": 36,
     "metadata": {},
     "output_type": "execute_result"
    }
   ],
   "source": [
    "A = 12\n",
    "B = 10\n",
    "bin(A|B)"
   ]
  },
  {
   "cell_type": "code",
   "execution_count": 38,
   "metadata": {},
   "outputs": [
    {
     "name": "stdout",
     "output_type": "stream",
     "text": [
      "48\n"
     ]
    },
    {
     "data": {
      "text/plain": [
       "'0b110000'"
      ]
     },
     "execution_count": 38,
     "metadata": {},
     "output_type": "execute_result"
    }
   ],
   "source": [
    "print(A << 2)\n",
    "bin(A << 2)"
   ]
  },
  {
   "cell_type": "markdown",
   "metadata": {},
   "source": [
    "### Binary Search Problem"
   ]
  },
  {
   "cell_type": "code",
   "execution_count": 49,
   "metadata": {},
   "outputs": [
    {
     "ename": "IndexError",
     "evalue": "list index out of range",
     "output_type": "error",
     "traceback": [
      "\u001b[0;31m---------------------------------------------------------------------------\u001b[0m",
      "\u001b[0;31mIndexError\u001b[0m                                Traceback (most recent call last)",
      "\u001b[1;32m/Users/arfsyed/Desktop/DSA.ipynb Cell 5\u001b[0m line \u001b[0;36m7\n\u001b[1;32m      <a href='vscode-notebook-cell:/Users/arfsyed/Desktop/DSA.ipynb#X12sZmlsZQ%3D%3D?line=4'>5</a>\u001b[0m \u001b[39mwhile\u001b[39;00m NumNotFound:\n\u001b[1;32m      <a href='vscode-notebook-cell:/Users/arfsyed/Desktop/DSA.ipynb#X12sZmlsZQ%3D%3D?line=5'>6</a>\u001b[0m     new_index \u001b[39m=\u001b[39m math\u001b[39m.\u001b[39mfloor(\u001b[39mlen\u001b[39m(inp)\u001b[39m/\u001b[39m\u001b[39m2\u001b[39m)\n\u001b[0;32m----> <a href='vscode-notebook-cell:/Users/arfsyed/Desktop/DSA.ipynb#X12sZmlsZQ%3D%3D?line=6'>7</a>\u001b[0m     num \u001b[39m=\u001b[39m inp[new_index]\n\u001b[1;32m      <a href='vscode-notebook-cell:/Users/arfsyed/Desktop/DSA.ipynb#X12sZmlsZQ%3D%3D?line=7'>8</a>\u001b[0m     \u001b[39mif\u001b[39;00m num \u001b[39m==\u001b[39m FIN:\n\u001b[1;32m      <a href='vscode-notebook-cell:/Users/arfsyed/Desktop/DSA.ipynb#X12sZmlsZQ%3D%3D?line=8'>9</a>\u001b[0m         \u001b[39mbreak\u001b[39;00m\n",
      "\u001b[0;31mIndexError\u001b[0m: list index out of range"
     ]
    }
   ],
   "source": [
    "import math\n",
    "inp = []\n",
    "FIN = 7\n",
    "NumNotFound = True\n",
    "while NumNotFound:\n",
    "    new_index = math.floor(len(inp)/2)\n",
    "    num = inp[new_index]\n",
    "    if num == FIN:\n",
    "        break\n",
    "    elif num > FIN:\n",
    "        inp = inp[new_index+1:]\n",
    "    else:\n",
    "        inp = inp[:new_index]\n",
    "    print(inp)\n",
    "\n",
    "new_index"
   ]
  },
  {
   "cell_type": "code",
   "execution_count": null,
   "metadata": {},
   "outputs": [
    {
     "name": "stdout",
     "output_type": "stream",
     "text": [
      "[6, 5, 4, 1]\n"
     ]
    },
    {
     "data": {
      "text/plain": [
       "0"
      ]
     },
     "execution_count": 24,
     "metadata": {},
     "output_type": "execute_result"
    }
   ],
   "source": [
    "\n",
    "nums = [2,4,1,1,6,5] # 3\n",
    "nums = [6,6,5,5,4,1] # 0\n",
    "\n",
    "\n",
    "def solution(nums):\n",
    "    \n",
    "    new = [nums[0]]\n",
    "    for i in range(1, len(nums)):\n",
    "        if nums[i] != nums[i-1]:\n",
    "            new.append(nums[i]) \n",
    "    \n",
    "    count = 0\n",
    "    for i in range(1, len(new)-1):\n",
    "        if new[i] > new[i-1] and new[i] > new[i+1]:\n",
    "            count += 1\n",
    "        elif new[i] < new[i-1] and new[i] < new[i+1]:\n",
    "            count += 1\n",
    "    return count\n",
    "        \n",
    "\n",
    "solution(nums)\n"
   ]
  },
  {
   "cell_type": "code",
   "execution_count": 4,
   "metadata": {},
   "outputs": [],
   "source": [
    "class ListNode:\n",
    "    def __init__(self, val=0, next=None):\n",
    "        self.val = val\n",
    "        self.next = next\n",
    "\n",
    "# create a linked list like [2,4,3]\n",
    "l1 = ListNode(2)\n",
    "l1.next = ListNode(4)\n",
    "l1.next.next = ListNode(3)\n",
    "\n",
    "# create a linked list like [5,6,4]\n",
    "l2 = ListNode(5)\n",
    "l2.next = ListNode(6)\n",
    "l2.next.next = ListNode(4)\n",
    "\n",
    "\n",
    "def solution(l1: ListNode, l2: ListNode) -> ListNode:\n",
    "    \n",
    "    def _make_nums(node) -> int:\n",
    "        nums = ''\n",
    "        while node:\n",
    "            nums += str(node.val)\n",
    "            node = node.next\n",
    "        return int(nums[::-1])\n",
    "        \n",
    "    sum = _make_nums(l1) + _make_nums(l2)\n",
    "    num = str(sum)[::-1]\n",
    "\n",
    "    # convert string to linked list\n",
    "    head = ListNode(int(num[0]))\n",
    "    current = head\n",
    "    for i in num[1:]:\n",
    "        current.next = ListNode(int(i))\n",
    "        current = current.next\n",
    "    \n",
    "    return head\n",
    "    \n",
    "res = solution(l1, l2)"
   ]
  },
  {
   "cell_type": "code",
   "execution_count": 7,
   "metadata": {},
   "outputs": [
    {
     "name": "stdout",
     "output_type": "stream",
     "text": [
      "7\n",
      "0\n",
      "8\n"
     ]
    }
   ],
   "source": [
    "node = res\n",
    "while node:\n",
    "    print(node.val)\n",
    "    node = node.next"
   ]
  },
  {
   "cell_type": "code",
   "execution_count": null,
   "metadata": {},
   "outputs": [
    {
     "name": "stdout",
     "output_type": "stream",
     "text": [
      "a\n",
      "[1]\n",
      "ab\n",
      "[1]\n",
      "abc\n",
      "[1]\n"
     ]
    },
    {
     "data": {
      "text/plain": [
       "3"
      ]
     },
     "execution_count": 50,
     "metadata": {},
     "output_type": "execute_result"
    }
   ],
   "source": [
    "from collections import Counter\n",
    "\n",
    "s = \"pwwkew\"\n",
    "s = \"bbbbb\"\n",
    "s = \"abcabcbb\"\n",
    "\n",
    "def solution(s):\n",
    "    maxlen = 0\n",
    "    for i in range(len(s)):\n",
    "        for j in range(i + 1, len(s) + 1):\n",
    "            substring = s[i:j]\n",
    "            if all(substring.count(k) == 1 for k in substring):\n",
    "                if len(substring) > maxlen:\n",
    "                    maxlen = len(substring)\n",
    "    return maxlen\n",
    "\n",
    "# make faster\n",
    "\n",
    "solution(s)"
   ]
  },
  {
   "cell_type": "code",
   "execution_count": 38,
   "metadata": {},
   "outputs": [],
   "source": [
    "a = [2, 3, 4]"
   ]
  },
  {
   "cell_type": "code",
   "execution_count": 77,
   "metadata": {},
   "outputs": [],
   "source": [
    "def string_to_bits(s: str) -> str:\n",
    "    return ''.join(format(ord(char), '08b') for char in s)"
   ]
  },
  {
   "cell_type": "code",
   "execution_count": 81,
   "metadata": {},
   "outputs": [
    {
     "data": {
      "text/plain": [
       "'0b1010'"
      ]
     },
     "execution_count": 81,
     "metadata": {},
     "output_type": "execute_result"
    }
   ],
   "source": [
    "bin(2 | 10)"
   ]
  },
  {
   "cell_type": "code",
   "execution_count": null,
   "metadata": {},
   "outputs": [
    {
     "data": {
      "text/plain": [
       "'0b1100001'"
      ]
     },
     "execution_count": 83,
     "metadata": {},
     "output_type": "execute_result"
    }
   ],
   "source": []
  },
  {
   "cell_type": "code",
   "execution_count": null,
   "metadata": {},
   "outputs": [
    {
     "data": {
      "text/plain": [
       "'0b1011000'"
      ]
     },
     "execution_count": 91,
     "metadata": {},
     "output_type": "execute_result"
    }
   ],
   "source": [
    "bin(11 << 3)"
   ]
  },
  {
   "cell_type": "code",
   "execution_count": 92,
   "metadata": {},
   "outputs": [
    {
     "data": {
      "text/plain": [
       "88"
      ]
     },
     "execution_count": 92,
     "metadata": {},
     "output_type": "execute_result"
    }
   ],
   "source": [
    "int(\"1011000\", 2)"
   ]
  },
  {
   "cell_type": "code",
   "execution_count": 109,
   "metadata": {},
   "outputs": [
    {
     "name": "stdout",
     "output_type": "stream",
     "text": [
      "[1]\n",
      "[1, 2]\n",
      "[1, 2, 3]\n",
      "[2]\n",
      "[2, 3]\n",
      "[3]\n",
      "{3: 6}\n"
     ]
    }
   ],
   "source": [
    "a  = [1,2,3]\n",
    "\n",
    "def _get_or(arr: list):\n",
    "    val = a[0]\n",
    "    for j in a[1:]:\n",
    "        val = val | j\n",
    "    return val\n",
    "\n",
    "vals = {}\n",
    "for i in range(len(a)):\n",
    "    for j in range(i+1, len(a)+1):\n",
    "        print(a[i:j])\n",
    "        val = _get_or(a[i:j])\n",
    "        vals[val] = vals.get(val, 0) + 1\n",
    "\n",
    "print(vals)"
   ]
  },
  {
   "cell_type": "code",
   "execution_count": 117,
   "metadata": {},
   "outputs": [
    {
     "name": "stdout",
     "output_type": "stream",
     "text": [
      "[[], [1], [1, 2], [1, 2, 3], [1, 3], [2], [2, 3], [3]]\n"
     ]
    }
   ],
   "source": [
    "def subsets(nums):\n",
    "    result = []\n",
    "\n",
    "    def backtrack(start, path):\n",
    "        result.append(path[:])  # Add the current subset (copy)\n",
    "        for i in range(start, len(nums)):\n",
    "            path.append(nums[i])         # Choose\n",
    "            backtrack(i + 1, path)       # Explore\n",
    "            path.pop()                   # Un-choose (backtrack)\n",
    "\n",
    "    backtrack(0, [])\n",
    "    return result\n",
    "\n",
    "print(subsets(a))"
   ]
  },
  {
   "cell_type": "code",
   "execution_count": 121,
   "metadata": {},
   "outputs": [
    {
     "data": {
      "text/plain": [
       "8"
      ]
     },
     "execution_count": 121,
     "metadata": {},
     "output_type": "execute_result"
    }
   ],
   "source": [
    "1 << len(a)"
   ]
  },
  {
   "cell_type": "code",
   "execution_count": null,
   "metadata": {},
   "outputs": [],
   "source": [
    "n = len(a)\n",
    "\n",
    "vals = {}\n",
    "for mask in range( 1 << n ):\n",
    "    subset = []\n",
    "    for i in range(n):\n",
    "        print(mask, 1 << i)\n",
    "        if mask & (1 << i):\n",
    "            subset.append(a[i])\n",
    "    if subset:\n",
    "        val = _get_or(subset)\n",
    "        vals[val] = vals.get(val, 0) + 1\n",
    "vals"
   ]
  },
  {
   "cell_type": "code",
   "execution_count": 138,
   "metadata": {},
   "outputs": [
    {
     "data": {
      "text/plain": [
       "0"
      ]
     },
     "execution_count": 138,
     "metadata": {},
     "output_type": "execute_result"
    }
   ],
   "source": [
    "0 & 4"
   ]
  },
  {
   "cell_type": "code",
   "execution_count": null,
   "metadata": {},
   "outputs": [
    {
     "name": "stdout",
     "output_type": "stream",
     "text": [
      "[]\n",
      "[1]\n",
      "[2]\n",
      "[1, 2]\n",
      "[3]\n",
      "[1, 3]\n",
      "[2, 3]\n",
      "[1, 2, 3]\n",
      "[4]\n",
      "[1, 4]\n",
      "[2, 4]\n",
      "[1, 2, 4]\n",
      "[3, 4]\n",
      "[1, 3, 4]\n",
      "[2, 3, 4]\n",
      "[1, 2, 3, 4]\n"
     ]
    }
   ],
   "source": [
    "nums = [1, 2, 3, 4]\n",
    "\n",
    "\n",
    "subs = {}\n",
    "n = len(nums)\n",
    "for mask in range(1 << n):\n",
    "    subset = []\n",
    "    for i in range(n):\n",
    "        if mask & (1 << i):\n",
    "            subset.append(nums[i])\n",
    "    "
   ]
  },
  {
   "cell_type": "markdown",
   "metadata": {},
   "source": [
    "## Leetcode Problems\n"
   ]
  },
  {
   "cell_type": "code",
   "execution_count": 3,
   "metadata": {},
   "outputs": [
    {
     "data": {
      "text/plain": [
       "[0, 1]"
      ]
     },
     "execution_count": 3,
     "metadata": {},
     "output_type": "execute_result"
    }
   ],
   "source": [
    "# 1. Two Sum\n",
    "\n",
    "from typing import List\n",
    "\n",
    "def twoSum(nums: List[int], target: int) -> List[int]:\n",
    "    resp = {}\n",
    "    for id, num in enumerate(nums):\n",
    "        if (target-num) in resp:\n",
    "            return [resp[target-num], id]\n",
    "        resp[num] = id\n",
    "\n",
    "\n",
    "nums = [2,7,11,15]\n",
    "target = 9\n",
    "\n",
    "nums = [3,2,4]\n",
    "target = 6\n",
    "\n",
    "nums = [3,3]\n",
    "target = 6\n",
    "\n",
    "twoSum(nums, target)"
   ]
  },
  {
   "cell_type": "code",
   "execution_count": 9,
   "metadata": {},
   "outputs": [
    {
     "data": {
      "text/plain": [
       "False"
      ]
     },
     "execution_count": 9,
     "metadata": {},
     "output_type": "execute_result"
    }
   ],
   "source": [
    "# 9. Palindrome Number\n",
    "\n",
    "def isPalindrome(x: int) -> bool:\n",
    "    rev = str(x)[::-1]\n",
    "    return rev == str(x)\n",
    "\n",
    "x = 121\n",
    "x = -121\n",
    "x = 10\n",
    "\n",
    "isPalindrome(x)"
   ]
  },
  {
   "cell_type": "code",
   "execution_count": null,
   "metadata": {},
   "outputs": [
    {
     "data": {
      "text/plain": [
       "1994"
      ]
     },
     "execution_count": 28,
     "metadata": {},
     "output_type": "execute_result"
    }
   ],
   "source": [
    "# 13. Roman to Integer\n",
    "\n",
    "# Symbol       Value\n",
    "# I             1\n",
    "# V             5\n",
    "# X             10\n",
    "# L             50\n",
    "# C             100\n",
    "# D             500\n",
    "# M             1000\n",
    "\n",
    "\n",
    "def romanToInt(s: str) -> int:\n",
    "    roman = {\"I\": 1, \"V\": 5, \"X\": 10, \"L\": 50, \"C\": 100, \"D\": 500, \"M\": 1000}\n",
    "\n",
    "    ns = s[::-1]\n",
    "    val = roman[ns[0]]\n",
    "    for i in range(1, len(ns)):\n",
    "        curr = ns[i]\n",
    "        prev = ns[i-1]\n",
    "        if roman[curr] < roman[prev]:\n",
    "            val = val - roman[curr]\n",
    "        else:\n",
    "            val += roman[curr]\n",
    "\n",
    "    return val\n",
    "\n",
    "s = \"III\"\n",
    "s = \"LVIII\"\n",
    "s = \"MCMXCIV\"\n",
    "\n",
    "romanToInt(s)"
   ]
  },
  {
   "cell_type": "code",
   "execution_count": null,
   "metadata": {},
   "outputs": [],
   "source": []
  }
 ],
 "metadata": {
  "kernelspec": {
   "display_name": "Python 3",
   "language": "python",
   "name": "python3"
  },
  "language_info": {
   "codemirror_mode": {
    "name": "ipython",
    "version": 3
   },
   "file_extension": ".py",
   "mimetype": "text/x-python",
   "name": "python",
   "nbconvert_exporter": "python",
   "pygments_lexer": "ipython3",
   "version": "3.12.7"
  }
 },
 "nbformat": 4,
 "nbformat_minor": 2
}
